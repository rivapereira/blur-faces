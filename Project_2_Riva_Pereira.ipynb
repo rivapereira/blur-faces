{
  "nbformat": 4,
  "nbformat_minor": 0,
  "metadata": {
    "colab": {
      "provenance": []
    },
    "kernelspec": {
      "name": "python3",
      "display_name": "Python 3"
    },
    "language_info": {
      "name": "python"
    }
  },
  "cells": [
    {
      "cell_type": "code",
      "source": [
        "import cv2\n",
        "import dlib\n",
        "from google.colab.patches import cv2_imshow\n",
        "\n",
        "def blur_faces(input_video_path, output_video_path):\n",
        "    input_video = cv2.VideoCapture(input_video_path)\n",
        "\n",
        "    fps = int(input_video.get(cv2.CAP_PROP_FPS))\n",
        "    width = int(input_video.get(cv2.CAP_PROP_FRAME_WIDTH))\n",
        "    height = int(input_video.get(cv2.CAP_PROP_FRAME_HEIGHT))\n",
        "\n",
        "    new_width=1280\n",
        "    new_height=720\n",
        "\n",
        "    fourcc = cv2.VideoWriter_fourcc(*'XVID')\n",
        "    output_video = cv2.VideoWriter(output_video_path, fourcc, fps, (new_width, new_height))\n",
        "\n",
        "    detector = dlib.get_frontal_face_detector()\n",
        "\n",
        "    while True:\n",
        "        ret, frame = input_video.read()\n",
        "\n",
        "        if not ret:\n",
        "            break\n",
        "\n",
        "        gray_frame = cv2.cvtColor(frame, cv2.COLOR_BGR2GRAY)\n",
        "\n",
        "        faces = detector(gray_frame)\n",
        "\n",
        "        for face in faces:\n",
        "            x, y, w, h = face.left(), face.top(), face.width(), face.height()\n",
        "            face_region = frame[y:y+h, x:x+w]\n",
        "\n",
        "            if not face_region.size or face_region.shape[0] < 30 or face_region.shape[1] < 30:\n",
        "              continue\n",
        "\n",
        "            face_region = cv2.GaussianBlur(face_region, (99, 99), 30)\n",
        "\n",
        "            frame[y:y+h, x:x+w] = face_region\n",
        "\n",
        "        output_video.write(frame)\n",
        "\n",
        "    input_video.release()\n",
        "    output_video.release()\n",
        "\n",
        "if __name__ == \"__main__\":\n",
        "    input_path = \"/content/drive/MyDrive/Colab Notebooks/Mia Rodriguez - Psycho [Official Music Video].mp4\" #Example on Input Video Path\n",
        "    output_path = \"/content/drive/MyDrive/Colab Notebooks/Mia Rodriguez3 - Psycho [Official Music Video].mp4\" #Example on Output Video Path\n",
        "\n",
        "    blur_faces(input_path, output_path)\n"
      ],
      "metadata": {
        "id": "u76IoPuAggCc"
      },
      "execution_count": 37,
      "outputs": []
    },
    {
      "cell_type": "code",
      "source": [],
      "metadata": {
        "id": "Btn2lgilng0b"
      },
      "execution_count": 29,
      "outputs": []
    }
  ]
}